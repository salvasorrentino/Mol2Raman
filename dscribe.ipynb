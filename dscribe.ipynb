{
 "cells": [
  {
   "cell_type": "code",
   "execution_count": 15,
   "metadata": {},
   "outputs": [],
   "source": [
    "from ase import Atoms\n",
    "from rdkit import Chem\n",
    "from rdkit.Chem import AllChem\n",
    "\n",
    "# SMILES string\n",
    "# smiles = \"CC1(C)[C@@H](CC1=O)C=O\"\n",
    "smiles = \"CCOC[C@H]1[C@H]2C[N@@]1C2\"\n",
    "\n",
    "# Convert SMILES to RDKit molecule\n",
    "rdkit_molecule = Chem.MolFromSmiles(smiles)\n",
    "\n",
    "# Add hydrogens to the molecule\n",
    "rdkit_molecule = Chem.AddHs(rdkit_molecule)\n",
    "\n",
    "# Generate 3D coordinates for the molecule\n",
    "AllChem.EmbedMolecule(rdkit_molecule, AllChem.ETKDG())\n",
    "\n",
    "# Convert RDKit molecule to ASE atom object\n",
    "ase_atoms = Atoms(symbols=[atom.GetSymbol() for atom in rdkit_molecule.GetAtoms()],\n",
    "                  positions=rdkit_molecule.GetConformer().GetPositions())\n",
    "\n",
    "# Now ase_atoms contains the ASE atom object for the molecule\n"
   ]
  },
  {
   "cell_type": "code",
   "execution_count": 20,
   "metadata": {},
   "outputs": [],
   "source": [
    "from dscribe.descriptors import CoulombMatrix\n",
    "\n",
    "# Setting up the CM descriptor\n",
    "cm = CoulombMatrix(n_atoms_max=20)"
   ]
  },
  {
   "cell_type": "code",
   "execution_count": 21,
   "metadata": {},
   "outputs": [],
   "source": [
    "samples = [ase_atoms]\n",
    "coulomb_matrices = cm.create(samples)            # Serial"
   ]
  },
  {
   "cell_type": "code",
   "execution_count": 25,
   "metadata": {},
   "outputs": [
    {
     "ename": "ValueError",
     "evalue": "The given system has a non-invertible cell matrix: Cell([0.0, 0.0, 0.0]).",
     "output_type": "error",
     "traceback": [
      "\u001b[1;31m---------------------------------------------------------------------------\u001b[0m",
      "\u001b[1;31mLinAlgError\u001b[0m                               Traceback (most recent call last)",
      "File \u001b[1;32mc:\\Users\\Aless\\anaconda3\\envs\\my-rdkit-env\\lib\\site-packages\\dscribe\\descriptors\\sinematrix.py:114\u001b[0m, in \u001b[0;36mSineMatrix.get_matrix\u001b[1;34m(self, system)\u001b[0m\n\u001b[0;32m    113\u001b[0m \u001b[39mtry\u001b[39;00m:\n\u001b[1;32m--> 114\u001b[0m     B_inv \u001b[39m=\u001b[39m system\u001b[39m.\u001b[39;49mget_cell_inverse()\n\u001b[0;32m    115\u001b[0m \u001b[39mexcept\u001b[39;00m:\n",
      "File \u001b[1;32mc:\\Users\\Aless\\anaconda3\\envs\\my-rdkit-env\\lib\\site-packages\\dscribe\\core\\system.py:98\u001b[0m, in \u001b[0;36mSystem.get_cell_inverse\u001b[1;34m(self)\u001b[0m\n\u001b[0;32m     97\u001b[0m \u001b[39mif\u001b[39;00m \u001b[39mself\u001b[39m\u001b[39m.\u001b[39m_cell_inverse \u001b[39mis\u001b[39;00m \u001b[39mNone\u001b[39;00m:\n\u001b[1;32m---> 98\u001b[0m     \u001b[39mself\u001b[39m\u001b[39m.\u001b[39m_cell_inverse \u001b[39m=\u001b[39m np\u001b[39m.\u001b[39;49mlinalg\u001b[39m.\u001b[39;49minv(\u001b[39mself\u001b[39;49m\u001b[39m.\u001b[39;49mget_cell())\n\u001b[0;32m     99\u001b[0m \u001b[39mreturn\u001b[39;00m \u001b[39mself\u001b[39m\u001b[39m.\u001b[39m_cell_inverse\n",
      "File \u001b[1;32m<__array_function__ internals>:200\u001b[0m, in \u001b[0;36minv\u001b[1;34m(*args, **kwargs)\u001b[0m\n",
      "File \u001b[1;32mc:\\Users\\Aless\\anaconda3\\envs\\my-rdkit-env\\lib\\site-packages\\numpy\\linalg\\linalg.py:538\u001b[0m, in \u001b[0;36minv\u001b[1;34m(a)\u001b[0m\n\u001b[0;32m    537\u001b[0m extobj \u001b[39m=\u001b[39m get_linalg_error_extobj(_raise_linalgerror_singular)\n\u001b[1;32m--> 538\u001b[0m ainv \u001b[39m=\u001b[39m _umath_linalg\u001b[39m.\u001b[39;49minv(a, signature\u001b[39m=\u001b[39;49msignature, extobj\u001b[39m=\u001b[39;49mextobj)\n\u001b[0;32m    539\u001b[0m \u001b[39mreturn\u001b[39;00m wrap(ainv\u001b[39m.\u001b[39mastype(result_t, copy\u001b[39m=\u001b[39m\u001b[39mFalse\u001b[39;00m))\n",
      "File \u001b[1;32mc:\\Users\\Aless\\anaconda3\\envs\\my-rdkit-env\\lib\\site-packages\\numpy\\linalg\\linalg.py:89\u001b[0m, in \u001b[0;36m_raise_linalgerror_singular\u001b[1;34m(err, flag)\u001b[0m\n\u001b[0;32m     88\u001b[0m \u001b[39mdef\u001b[39;00m \u001b[39m_raise_linalgerror_singular\u001b[39m(err, flag):\n\u001b[1;32m---> 89\u001b[0m     \u001b[39mraise\u001b[39;00m LinAlgError(\u001b[39m\"\u001b[39m\u001b[39mSingular matrix\u001b[39m\u001b[39m\"\u001b[39m)\n",
      "\u001b[1;31mLinAlgError\u001b[0m: Singular matrix",
      "\nDuring handling of the above exception, another exception occurred:\n",
      "\u001b[1;31mValueError\u001b[0m                                Traceback (most recent call last)",
      "Cell \u001b[1;32mIn[25], line 8\u001b[0m\n\u001b[0;32m      3\u001b[0m \u001b[39m# Setting up the sine matrix descriptor\u001b[39;00m\n\u001b[0;32m      4\u001b[0m sm \u001b[39m=\u001b[39m SineMatrix(\n\u001b[0;32m      5\u001b[0m     n_atoms_max\u001b[39m=\u001b[39m\u001b[39m20\u001b[39m,\n\u001b[0;32m      6\u001b[0m )\n\u001b[1;32m----> 8\u001b[0m sine_matrix \u001b[39m=\u001b[39m sm\u001b[39m.\u001b[39;49mcreate(samples)\n",
      "File \u001b[1;32mc:\\Users\\Aless\\anaconda3\\envs\\my-rdkit-env\\lib\\site-packages\\dscribe\\descriptors\\sinematrix.py:87\u001b[0m, in \u001b[0;36mSineMatrix.create\u001b[1;34m(self, system, n_jobs, only_physical_cores, verbose)\u001b[0m\n\u001b[0;32m     84\u001b[0m static_size \u001b[39m=\u001b[39m [n_features]\n\u001b[0;32m     86\u001b[0m \u001b[39m# Create in parallel\u001b[39;00m\n\u001b[1;32m---> 87\u001b[0m output \u001b[39m=\u001b[39m \u001b[39mself\u001b[39;49m\u001b[39m.\u001b[39;49mcreate_parallel(\n\u001b[0;32m     88\u001b[0m     inp,\n\u001b[0;32m     89\u001b[0m     \u001b[39mself\u001b[39;49m\u001b[39m.\u001b[39;49mcreate_single,\n\u001b[0;32m     90\u001b[0m     n_jobs,\n\u001b[0;32m     91\u001b[0m     static_size,\n\u001b[0;32m     92\u001b[0m     only_physical_cores,\n\u001b[0;32m     93\u001b[0m     verbose\u001b[39m=\u001b[39;49mverbose,\n\u001b[0;32m     94\u001b[0m )\n\u001b[0;32m     96\u001b[0m \u001b[39mreturn\u001b[39;00m output\n",
      "File \u001b[1;32mc:\\Users\\Aless\\anaconda3\\envs\\my-rdkit-env\\lib\\site-packages\\dscribe\\descriptors\\descriptor.py:214\u001b[0m, in \u001b[0;36mDescriptor.create_parallel\u001b[1;34m(self, inp, func, n_jobs, static_size, only_physical_cores, verbose, prefer)\u001b[0m\n\u001b[0;32m    212\u001b[0m \u001b[39m# If single system given, skip the parallelization overhead\u001b[39;00m\n\u001b[0;32m    213\u001b[0m \u001b[39mif\u001b[39;00m \u001b[39mlen\u001b[39m(inp) \u001b[39m==\u001b[39m \u001b[39m1\u001b[39m:\n\u001b[1;32m--> 214\u001b[0m     \u001b[39mreturn\u001b[39;00m \u001b[39mself\u001b[39m\u001b[39m.\u001b[39mformat_array(func(\u001b[39m*\u001b[39;49minp[\u001b[39m0\u001b[39;49m]))\n\u001b[0;32m    216\u001b[0m \u001b[39m# Determine the number of jobs\u001b[39;00m\n\u001b[0;32m    217\u001b[0m \u001b[39mif\u001b[39;00m n_jobs \u001b[39m<\u001b[39m \u001b[39m0\u001b[39m:\n",
      "File \u001b[1;32mc:\\Users\\Aless\\anaconda3\\envs\\my-rdkit-env\\lib\\site-packages\\dscribe\\descriptors\\descriptormatrix.py:114\u001b[0m, in \u001b[0;36mDescriptorMatrix.create_single\u001b[1;34m(self, system)\u001b[0m\n\u001b[0;32m    111\u001b[0m \u001b[39m# Remove the old norm vector for the new system\u001b[39;00m\n\u001b[0;32m    112\u001b[0m \u001b[39mself\u001b[39m\u001b[39m.\u001b[39m_norm_vector \u001b[39m=\u001b[39m \u001b[39mNone\u001b[39;00m\n\u001b[1;32m--> 114\u001b[0m matrix \u001b[39m=\u001b[39m \u001b[39mself\u001b[39;49m\u001b[39m.\u001b[39;49mget_matrix(system)\n\u001b[0;32m    116\u001b[0m \u001b[39m# Handle the permutation option\u001b[39;00m\n\u001b[0;32m    117\u001b[0m \u001b[39mif\u001b[39;00m \u001b[39mself\u001b[39m\u001b[39m.\u001b[39mpermutation \u001b[39m==\u001b[39m \u001b[39m\"\u001b[39m\u001b[39mnone\u001b[39m\u001b[39m\"\u001b[39m:\n",
      "File \u001b[1;32mc:\\Users\\Aless\\anaconda3\\envs\\my-rdkit-env\\lib\\site-packages\\dscribe\\descriptors\\sinematrix.py:116\u001b[0m, in \u001b[0;36mSineMatrix.get_matrix\u001b[1;34m(self, system)\u001b[0m\n\u001b[0;32m    114\u001b[0m     B_inv \u001b[39m=\u001b[39m system\u001b[39m.\u001b[39mget_cell_inverse()\n\u001b[0;32m    115\u001b[0m \u001b[39mexcept\u001b[39;00m:\n\u001b[1;32m--> 116\u001b[0m     \u001b[39mraise\u001b[39;00m \u001b[39mValueError\u001b[39;00m(\n\u001b[0;32m    117\u001b[0m         \u001b[39m\"\u001b[39m\u001b[39mThe given system has a non-invertible cell matrix: \u001b[39m\u001b[39m{}\u001b[39;00m\u001b[39m.\u001b[39m\u001b[39m\"\u001b[39m\u001b[39m.\u001b[39mformat(B)\n\u001b[0;32m    118\u001b[0m     )\n\u001b[0;32m    120\u001b[0m \u001b[39m# Difference vectors as a 3D tensor\u001b[39;00m\n\u001b[0;32m    121\u001b[0m diff_tensor \u001b[39m=\u001b[39m system\u001b[39m.\u001b[39mget_displacement_tensor()\n",
      "\u001b[1;31mValueError\u001b[0m: The given system has a non-invertible cell matrix: Cell([0.0, 0.0, 0.0])."
     ]
    }
   ],
   "source": [
    "from dscribe.descriptors import SineMatrix\n",
    "\n",
    "# Setting up the sine matrix descriptor\n",
    "sm = SineMatrix(\n",
    "    n_atoms_max=20,\n",
    ")\n",
    "\n",
    "sine_matrix = sm.create(samples)"
   ]
  },
  {
   "cell_type": "code",
   "execution_count": null,
   "metadata": {},
   "outputs": [],
   "source": []
  }
 ],
 "metadata": {
  "kernelspec": {
   "display_name": "my-rdkit-env",
   "language": "python",
   "name": "python3"
  },
  "language_info": {
   "codemirror_mode": {
    "name": "ipython",
    "version": 3
   },
   "file_extension": ".py",
   "mimetype": "text/x-python",
   "name": "python",
   "nbconvert_exporter": "python",
   "pygments_lexer": "ipython3",
   "version": "3.9.7"
  },
  "orig_nbformat": 4
 },
 "nbformat": 4,
 "nbformat_minor": 2
}
